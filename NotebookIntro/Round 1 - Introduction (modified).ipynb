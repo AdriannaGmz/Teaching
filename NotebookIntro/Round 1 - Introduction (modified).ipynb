{
 "cells": [
  {
   "cell_type": "markdown",
   "metadata": {
    "nbgrader": {
     "grade": false,
     "grade_id": "cell-c7152b43283fae80",
     "locked": true,
     "schema_version": 2,
     "solution": false
    }
   },
   "source": [
    "# Machine Learning: Basic Principles 2018\n",
    "# Round 1 - \"Introduction\"\n",
    " \n",
    "### Learning goals \n",
    "\n",
    "This exercise consists of several tasks which require some familiarity with the programming language Python. \n",
    "These tasks include plotting functions, reading in data from files, visualizing data sets using a scatter plot and computing an eigenvalue decomposition. Each task requires you to write a few lines of Python code to calculate and generate the results. In particular, you have to fill in the gaps marked with `...` below the comment `### STUDENT TASK ###`.\n",
    "\n",
    "\n",
    "### Exercise Contents\n",
    "\n",
    "[Task 0. Matrices and Vectors](#Q0): You will learn how to define and work with matrices and vectors.\n",
    "\n",
    "[Task 1. Plotting](#Q1): You will learn how to define and plot a function.\n",
    "\n",
    "[Task 2. Files](#Q2): You will learn to load data from files and to create scatter plots and histogram.\n",
    "\n",
    "[Task 3. Eigenvectors](#Q3): You will review the concept of eigenvalue decompositions. \n",
    "\n",
    "### Keywords \n",
    "`linear algebra`, `plotting`, `scatter plot`, `loading/saving files`, `eigenvalues and eigenvectors`, `matplotlib`, `numpy`, `pandas`.\n",
    "\n",
    "\n",
    "## Task 0 - Matrices and Vectors.\n",
    "<a id=\"Q0\"></a>\n",
    "\n",
    "Before going through the questions, we review some basic functions of the _numpy_ library. _Numpy_ is one of the most important math libraries in Python. Feel free to skip this section if you are already familiar with the _numpy_ library and its most used functions (e.g., numpy.dot(), numpy.zeros(),...). If you are interested you can read more in [this link](https://hackernoon.com/introduction-to-numpy-1-an-absolute-beginners-guide-to-machine-learning-and-data-science-5d87f13f0d51). \n",
    "\n"
   ]
  },
  {
   "cell_type": "code",
   "execution_count": 1,
   "metadata": {},
   "outputs": [
    {
     "name": "stdout",
     "output_type": "stream",
     "text": [
      "A = [1 2 3 4 5 6 7 8 9]\n",
      "B = \n",
      " [[0. 0.]\n",
      " [0. 0.]]\n",
      "C = \n",
      " [[1 4 0]\n",
      " [3 2 5]\n",
      " [6 2 1]]\n",
      "I = \n",
      " [[1. 0. 0.]\n",
      " [0. 1. 0.]\n",
      " [0. 0. 1.]]\n",
      "D = C * I = \n",
      " [[1. 4. 0.]\n",
      " [3. 2. 5.]\n",
      " [6. 2. 1.]]\n",
      "second column of D = \n",
      " [[4.]\n",
      " [2.]\n",
      " [2.]]\n",
      "second row of D = [[3. 2. 5.]]\n"
     ]
    }
   ],
   "source": [
    "#import the numpy library\n",
    "import numpy as np # define shorthand \"np\" for the numpy package \n",
    "\n",
    "#Let's create an array:\n",
    "A = np.array([1,2,3,4,5,6,7,8,9])\n",
    "print(\"A =\",A) \n",
    "\n",
    "#Now let's create a 2*2 zeros matrix. It is a 2*2 matrix filled with zeros:\n",
    "B = np.zeros((2,2))\n",
    "print(\"B = \\n\",B)\n",
    "\n",
    "#Here we want to create two 3*3 matrices:\n",
    "C = np.mat(\"1,4,0;3,2,5;6,2,1\")\n",
    "I = np.eye(3)\n",
    "print(\"C = \\n\",C)\n",
    "print(\"I = \\n\",I)\n",
    "# We generated a matrix manually, and an identity matrix. Now let's have the multiple of these two matrices:\n",
    "D = np.dot(C,I)\n",
    "print(\"D = C * I = \\n\",D)\n",
    "\n",
    "# In the next step we want to read a particular row and coloumn of matrix D:\n",
    "secondcol = D[:,1]\n",
    "secondrow = D[1,:]\n",
    "print(\"second column of D = \\n\",secondcol)\n",
    "print(\"second row of D =\",secondrow)"
   ]
  },
  {
   "cell_type": "markdown",
   "metadata": {
    "nbgrader": {
     "grade": false,
     "grade_id": "cell-9c16eee933b9e8f1",
     "locked": true,
     "schema_version": 2,
     "solution": false
    }
   },
   "source": [
    "## Task 1 - Plotting.\n",
    "<a id=\"Q1\"></a>\n",
    "Consider the scalar function $f(x)=\\dfrac{1}{1+e^{-x}}$.\n",
    "This task requires you to use the Python library \"matplotlib\" (https://matplotlib.org/index.html) to \n",
    "\n",
    "[1.1.] plot the function $f(x)$ in the range $[-6 , 6]$. \n",
    "\n",
    "[1.2.] plot the first derivative $f'(x)$ of the mentioned function in the range $[-6,6]$."
   ]
  },
  {
   "cell_type": "code",
   "execution_count": 2,
   "metadata": {
    "nbgrader": {
     "grade": true,
     "grade_id": "cell-739b6b4bfa3aaa1b",
     "locked": false,
     "points": 0,
     "schema_version": 2,
     "solution": true
    }
   },
   "outputs": [
    {
     "data": {
      "text/plain": [
       "<Figure size 640x480 with 1 Axes>"
      ]
     },
     "metadata": {},
     "output_type": "display_data"
    },
    {
     "data": {
      "text/plain": [
       "<Figure size 640x480 with 1 Axes>"
      ]
     },
     "metadata": {},
     "output_type": "display_data"
    }
   ],
   "source": [
    "#Important libraries to import:\n",
    "# NumPy: is the fundamental package for scientific computing with Python.\n",
    "# matplotlib.pyplot: provides a MATLAB-like plotting framework.\n",
    "\n",
    "import matplotlib.pyplot as plt #define shorthand \"plt\" for package matlobplit.pyplot\n",
    "import numpy as np #define shorthand \"np\" for the numpy package \n",
    "\n",
    "def example_func(x):\n",
    "    f_x = 1/(1+np.exp(-x))\n",
    "    return f_x\n",
    "\n",
    "range_x = np.arange(-6 , 6 , 0.01)\n",
    "\n",
    "f_x = np.empty(len(range_x))\n",
    "\n",
    "for i in range(len(range_x)):\n",
    "    f_x[i] = example_func(range_x[i])\n",
    "\n",
    "### STUDENT TASK ###\n",
    "#1) plot the results, for example use plot function in matplotlib.pyplot. Remember to show() the plot.\n",
    "### BEGIN SOLUTION\n",
    "plt.plot(range_x,f_x, label='sigmoid function')\n",
    "plt.xlabel('x')\n",
    "plt.ylabel('f(x)')\n",
    "plt.legend()\n",
    "plt.show()\n",
    "### END SOLUTION\n",
    "### STUDENT TASK ###\n",
    "#2) find the first derivative of the mentioned function and plot it\n",
    "### BEGIN SOLUTION\n",
    "f_prime_x = f_x * (1-f_x)\n",
    "plt.plot(range_x,f_prime_x, label='derivative of sigmoid function')\n",
    "plt.xlabel('x')\n",
    "plt.ylabel('f(x)(1-f(x))')\n",
    "plt.legend()\n",
    "plt.show()\n",
    "### END SOLUTION"
   ]
  },
  {
   "cell_type": "markdown",
   "metadata": {
    "nbgrader": {
     "grade": false,
     "grade_id": "cell-a04ae02103abfcba",
     "locked": true,
     "schema_version": 2,
     "solution": false
    }
   },
   "source": [
    "## Task 2. Files.\n",
    "<a id=\"Q2\"></a>\n",
    "In this task, you are required to use the _pandas_ library to read in data from a csv file. Then you will use the _matplotlib.pyplot_ library to create histogram and scatter plots.  \n",
    "In particular, you task is to:\n",
    "\n",
    "[2.1.] Load the dataset stored in the file \"Data.csv\" whose rows contain $N$ feature vectors $\\mathbf{x}^{(i)} \\in \\mathbb{R}^{d}$, for $i=1,\\ldots,N$. Print out the feature length $d$ and the sample size $N$. \n",
    "\n",
    "[2.2.] Create a scatter plot of the dataset.\n",
    "\n",
    "[2.3.] Divide the dataset into 3 subsets (the first 200, the second 200, and the third 200 rows). Create a new scatter plot where each subset is plotted with a different color. \n",
    "\n",
    "[2.4.] Create a histogram of the first feature $x_{1}^{(i)}$ (stored in the first column of the file) with 50 \"bins\", i.e., divide the value range of $x^{(i)}_{1}$ evenly into $50$ intervals.\n"
   ]
  },
  {
   "cell_type": "code",
   "execution_count": 3,
   "metadata": {
    "nbgrader": {
     "grade": true,
     "grade_id": "cell-5ed60361d0747c7c",
     "locked": false,
     "points": 0,
     "schema_version": 2,
     "solution": true
    }
   },
   "outputs": [
    {
     "name": "stdout",
     "output_type": "stream",
     "text": [
      "sample size N= 600\n",
      "feature length d= 2\n"
     ]
    },
    {
     "name": "stderr",
     "output_type": "stream",
     "text": [
      "/anaconda3/lib/python3.6/site-packages/ipykernel_launcher.py:11: FutureWarning: Method .as_matrix will be removed in a future version. Use .values instead.\n",
      "  # This is added back by InteractiveShellApp.init_path()\n"
     ]
    },
    {
     "data": {
      "image/png": "[encoded data removed]",
      "text/plain": [
       "<Figure size 432x288 with 1 Axes>"
      ]
     },
     "metadata": {},
     "output_type": "display_data"
    },
    {
     "data": {
      "image/png": "[encoded data removed]",
      "text/plain": [
       "<Figure size 432x288 with 1 Axes>"
      ]
     },
     "metadata": {},
     "output_type": "display_data"
    },
    {
     "data": {
      "image/png": "[encoded data removed]",
      "text/plain": [
       "<Figure size 432x288 with 1 Axes>"
      ]
     },
     "metadata": {},
     "output_type": "display_data"
    }
   ],
   "source": [
    "import pandas as pd #the package \"pandas\" provides methods for loading and saving data to file \n",
    "import matplotlib.pyplot as plt #define shorthand \"plt\" for package matlobplit.pyplot\n",
    "import numpy as np #define shorthand \"np\" for the numpy package \n",
    "\n",
    "### STUDENT TASK ###\n",
    "#1) Load the data\n",
    "# df = ...\n",
    "### BEGIN SOLUTION\n",
    "df = pd.read_csv('Data.csv')\n",
    "### END SOLUTION\n",
    "data = df.as_matrix() # convert the data frame to numpy matrix\n",
    "\n",
    "# print the dimension of the data\n",
    "#i.e.\n",
    "#print('sample size N=',...)\n",
    "#print('feature length d=',...)\n",
    "### BEGIN SOLUTION\n",
    "print('sample size N=',str(data.shape[0]))\n",
    "print('feature length d=',str(data.shape[1]))\n",
    "### END SOLUTION\n",
    "\n",
    "### STUDENT TASK ###\n",
    "#2) plot the scatter plot of all the data \n",
    "### BEGIN SOLUTION\n",
    "plt.scatter(data[:,0],data[:,1], label='All data')\n",
    "plt.legend()\n",
    "plt.show()\n",
    "### END SOLUTION\n",
    "\n",
    "## STUDENT TASK ###\n",
    "#3) Divide the data matrix to 3 subsets (the first 200, the second 200, and the third 200 rows)\n",
    "# plot a new scatter plot with different colors for each subset.\n",
    "### BEGIN SOLUTION\n",
    "plt.scatter(data[0:200,0],data[0:200,1], color='b', label='first 200 data')\n",
    "plt.scatter(data[200:400,0],data[200:400,1], color='r', label='second 200 data')\n",
    "plt.scatter(data[400:600,0],data[400:600,1], color='g', label='third 200 data')\n",
    "plt.legend()\n",
    "plt.show()\n",
    "### END SOLUTION\n",
    "\n",
    "## STUDENT TASK ###\n",
    "#4) Only load the first column of the data and plot its histogtam.\n",
    "### BEGIN SOLUTION\n",
    "first_col = data[:,0]\n",
    "plt.hist(first_col,50)\n",
    "plt.xlabel('$x_{1}$')\n",
    "plt.ylabel('occurence')\n",
    "plt.show()\n",
    "### END SOLUTION"
   ]
  },
  {
   "cell_type": "code",
   "execution_count": 4,
   "metadata": {
    "nbgrader": {
     "grade": true,
     "grade_id": "cell-da817e0799517901",
     "locked": true,
     "points": 1,
     "schema_version": 1,
     "solution": false
    }
   },
   "outputs": [
    {
     "ename": "AssertionError",
     "evalue": "The loaded DataFrame doesn't have the right shape",
     "output_type": "error",
     "traceback": [
      "\u001b[0;31m---------------------------------------------------------------------------\u001b[0m",
      "\u001b[0;31mAssertionError\u001b[0m                            Traceback (most recent call last)",
      "\u001b[0;32m<ipython-input-4-29634361c8d3>\u001b[0m in \u001b[0;36m<module>\u001b[0;34m()\u001b[0m\n\u001b[1;32m      1\u001b[0m \u001b[0;31m# Added autograder tests\u001b[0m\u001b[0;34m\u001b[0m\u001b[0;34m\u001b[0m\u001b[0m\n\u001b[0;32m----> 2\u001b[0;31m \u001b[0;32massert\u001b[0m \u001b[0mdf\u001b[0m\u001b[0;34m.\u001b[0m\u001b[0mshape\u001b[0m \u001b[0;34m==\u001b[0m \u001b[0;34m(\u001b[0m\u001b[0;36m600\u001b[0m\u001b[0;34m,\u001b[0m \u001b[0;36m1\u001b[0m\u001b[0;34m)\u001b[0m\u001b[0;34m,\u001b[0m \u001b[0;34m\"The loaded DataFrame doesn't have the right shape\"\u001b[0m\u001b[0;34m\u001b[0m\u001b[0m\n\u001b[0m",
      "\u001b[0;31mAssertionError\u001b[0m: The loaded DataFrame doesn't have the right shape"
     ]
    }
   ],
   "source": [
    "# Added autograder tests\n",
    "assert df.shape == (600, 1), \"The loaded DataFrame doesn't have the right shape\""
   ]
  },
  {
   "cell_type": "markdown",
   "metadata": {
    "nbgrader": {
     "grade": false,
     "grade_id": "cell-1697b1174fce4fa9",
     "locked": true,
     "schema_version": 2,
     "solution": false
    }
   },
   "source": [
    "## Task 3 - Eigenvectors.\n",
    "<a id=\"Q3\"></a>\n",
    "\n",
    "Consider a dataset containing $N$ feature vectors $\\mathbf{x}^{(1)},...,\\mathbf{x}^{(N)} \\in \\mathbb{R}^{d}$ \n",
    "which we stack into the feature matrix $\\mathbf{X}=(\\mathbf{x}^{(1)},\\ldots,\\mathbf{x}^{(N)})^{T} \\in \\mathbb{R}^{N \\times d}$. \n",
    "In order to characterize the shape of dataset it is useful to compute the sample covariance \n",
    "matrix \n",
    "\n",
    "$$\\mathbf{C} = (1/N) \\mathbf{X}^{T} \\mathbf{X}.$$ \n",
    "\n",
    "The so obtained matrix $\\mathbf{C}$ \n",
    "is positive semidefinite (psd) since $\\mathbf{w}^{T}\\mathbf{C}\\mathbf{w} \\geq 0 $ \n",
    "for any vector $\\mathbf{w} \\in \\mathbb{R}^{d}$. As a psd matrix, we can decompose $\\mathbf{C}$ into three factors \n",
    "\n",
    "$$\\mathbf{C} = \\mathbf{U} {\\bf \\mathbf{\\Lambda}} \\mathbf{U}^{T}.$$ \n",
    "\n",
    "The matrix $\\mathbf{U}$ is orthogonal (i.e., $\\mathbf{U}^{T}\\mathbf{U}=\\mathbf{I}$) \n",
    "and its columns are eigenvectors of $\\mathbf{C}$. The matrix  ${\\mathbf{\\Lambda}}$ \n",
    "is diagonal having the eigenvalues of $\\mathbf{C}$ on the main diagonal. \n",
    " \n",
    "\n",
    "In this task you have to:\n",
    "\n",
    "[3.1.] Read in all the feature vectors $\\mathbf{x}^{(i)} \\in \\mathbb{R}^{d}$ stored in the rows of the file \"DataTask3.csv\" and generate a scatter plot of them.\n",
    "\n",
    "[3.2.] Stack the feature vectors row-wise into the \"feature matrix\" $\\mathbf{X}=(\\mathbf{x}^{(1)},\\ldots,\\mathbf{x}^{(N)})^{T} \\in \\mathbb{R}^{N \\times d}$.\n",
    "\n",
    "[3.3.] Compute the \"sample covariance\" matrix $\\mathbf{C} = (1/N) \\mathbf{X}^{T} \\mathbf{X}$.\n",
    "\n",
    "[3.4.] Use the Python function _numpy.linalg.eig()_ to find eigenvalues and eigenvectors of $\\mathbf{C}$.\n",
    "\n",
    "[3.5.] Indicate the eigenvectors $\\mathbf{u}_{1}$, $\\mathbf{u}_{2}$ by drawing a line from the origin $(0,0)$ to the points given by $\\mathbf{u}_{1}$ and $\\mathbf{u}_{2} \\in \\mathbb{R}^{2}$, on the scatter plot from [3.1.].\n",
    "\n",
    "Tips:\n",
    "\n",
    "- If the same scaling is used for the horizontal and vertical axis of the scatter plot, then the eigenvectors should be perpendicular to each other. Use _plt.xlim_ and _plt.ylim_ to set the axes length. Furthermore, you can set the figure size by using _plt.figure(figsize=(8,8))_.\n",
    "- $\\mathbf{u}_{1}$ corresponding to the largest eigenvalue $\\lambda_{1}$ should indicate the direction into which the dataset varies the most."
   ]
  },
  {
   "cell_type": "code",
   "execution_count": null,
   "metadata": {
    "nbgrader": {
     "grade": true,
     "grade_id": "cell-4df3a8b0cd3af1c2",
     "locked": false,
     "points": 0,
     "schema_version": 2,
     "solution": true
    },
    "scrolled": false
   },
   "outputs": [],
   "source": [
    "import numpy as np\n",
    "import matplotlib.pyplot as plt\n",
    "import pandas as pd #the package \"pandas\" provides methods for loading and saving data to file \n",
    "\n",
    "\n",
    "# read in the data from \"DataTask3.csv\"\n",
    "#df = ...\n",
    "### BEGIN SOLUTION\n",
    "df = pd.read_csv('DataTask3.csv')\n",
    "### END SOLUTION\n",
    "X = df.as_matrix() # convert the data frame to numpy matrix\n",
    "\n",
    "\n",
    "\n",
    "### STUDENT TASK ###\n",
    "#Step 1: draw the scatter plot for data X\n",
    "plt.figure(figsize=(8,8))\n",
    "### BEGIN SOLUTION\n",
    "plt.scatter(X[:,0], X[:,1], label='data')\n",
    "### END SOLUTION\n",
    "\n",
    "\n",
    "### STUDENT TASK ###\n",
    "#Step 2: compute the sample covariance of data X\n",
    "#C = ...\n",
    "### BEGIN SOLUTION\n",
    "C = np.matmul(np.transpose(X), X)/X.shape[0]\n",
    "print(np.trace(C))\n",
    "### END SOLUTION\n",
    "#Hint: C should be a 2x2 matrix. \n",
    "\n",
    "### STUDENT TASK ###\n",
    "#Step 3: find eigenvalues and eigenvectors of C and print them\n",
    "#values, vectors = ...\n",
    "#print('eigenvalues= ', values)\n",
    "#print('eigenvectors= ', vectors)\n",
    "### BEGIN SOLUTION\n",
    "values, vectors = np.linalg.eig(C)\n",
    "### END SOLUTION\n",
    "print('eigenvalues= ', values)\n",
    "print('eigenvectors= ', vectors)\n",
    "\n",
    "### STUDENT TASK ###\n",
    "#Step 4: plot each eigenvector as a line from [0,0] to the coordinate of the eigenvector\n",
    "### BEGIN SOLUTION\n",
    "plt.plot([0,vectors[0,1]],[0,vectors[0,0]],'r-', label='eigenvectors')\n",
    "plt.plot([0,vectors[1,1]],[0,vectors[1,0]],'r-')\n",
    "### END SOLUTION\n",
    "\n",
    "plt.xlim((-4, 4))\n",
    "plt.ylim((-4, 4))\n",
    "\n",
    "plt.legend()\n",
    "plt.show()"
   ]
  },
  {
   "cell_type": "code",
   "execution_count": null,
   "metadata": {
    "nbgrader": {
     "grade": true,
     "grade_id": "cell-25f7767c19f4ada6",
     "locked": true,
     "points": 1,
     "schema_version": 1,
     "solution": false
    }
   },
   "outputs": [],
   "source": [
    "# Added autograder tests\n",
    "assert df.shape == (1000, 2), \"The loaded DataFrame doesn't have the right shape\"\n",
    "assert C.shape == (2, 2), \"The covariance msut be a 2-square matrix\"\n",
    "assert (C.T == C).all(), \"The covariance must be invariant by transposition\"\n",
    "assert (C >= 0).all() and (C <= 1).all(), \"Elements of C must be between 0 and 1\"\n",
    "assert np.trace(C) == np.sum(values), \"The sum of eigenvalues must be equal to the trace of C\"\n",
    "assert vectors[:, 0] @ vectors[:, 1] == 0, \"Eigenvectors must be orthogonal\""
   ]
  }
 ],
 "metadata": {
  "celltoolbar": "Create Assignment",
  "kernelspec": {
   "display_name": "Python 3",
   "language": "python",
   "name": "python3"
  },
  "language_info": {
   "codemirror_mode": {
    "name": "ipython",
    "version": 3
   },
   "file_extension": ".py",
   "mimetype": "text/x-python",
   "name": "python",
   "nbconvert_exporter": "python",
   "pygments_lexer": "ipython3",
   "version": "3.6.5"
  }
 },
 "nbformat": 4,
 "nbformat_minor": 2
}
